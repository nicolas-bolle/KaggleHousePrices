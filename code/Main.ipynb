{
 "cells": [
  {
   "cell_type": "markdown",
   "id": "de56f105-01db-4dcc-bb8a-33d1cc900cbe",
   "metadata": {},
   "source": [
    "# Kaggle House Prices\n",
    "\n",
    "This competition: https://www.kaggle.com/competitions/house-prices-advanced-regression-techniques/\n",
    "\n",
    "It is old, and the leaderboard is saturated with perfect submissions. But it looks like great classic ML practice, and I can take inspiration from another submission: https://github.com/sushant2811/KaggleHousingPrices"
   ]
  },
  {
   "cell_type": "markdown",
   "id": "af8ba1ed-6987-4c3b-9f33-d56085d002ad",
   "metadata": {},
   "source": [
    "## Notes/planning\n",
    "\n",
    "Explore\n",
    "- Visualize the distributions of some features, especially the target; think about transformations\n",
    "- Check variables correlations\n",
    "\n",
    "Clean variables\n",
    "- Drop variables with lots of entries missing\n",
    "- Impute (smartly) missing variables, using correlated variables to help\n",
    "- Drop highly correlated variables\n",
    "- Remove outliers\n",
    "\n",
    "Prep ML\n",
    "- Consider custom features\n",
    "- Scale variables to be approximately normal\n",
    "- One-hot or LabelEncoder\n",
    "\n",
    "ML\n",
    "- Linear regression, random forests and boosting\n",
    "- Visualize the predictions\n",
    "- Check which variables were most important"
   ]
  },
  {
   "cell_type": "code",
   "execution_count": null,
   "id": "48dbacbf-0b57-4197-87df-97b3bae879cf",
   "metadata": {},
   "outputs": [],
   "source": []
  }
 ],
 "metadata": {
  "kernelspec": {
   "display_name": "Python 3 (ipykernel)",
   "language": "python",
   "name": "python3"
  },
  "language_info": {
   "codemirror_mode": {
    "name": "ipython",
    "version": 3
   },
   "file_extension": ".py",
   "mimetype": "text/x-python",
   "name": "python",
   "nbconvert_exporter": "python",
   "pygments_lexer": "ipython3",
   "version": "3.9.7"
  }
 },
 "nbformat": 4,
 "nbformat_minor": 5
}
